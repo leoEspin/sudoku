{
 "cells": [
  {
   "cell_type": "code",
   "execution_count": 1,
   "id": "c085b86d-c064-4f58-a96c-76c0eee70e87",
   "metadata": {},
   "outputs": [],
   "source": [
    "import numpy as np"
   ]
  },
  {
   "cell_type": "code",
   "execution_count": 2,
   "id": "5fd3c4db-9417-4d9c-a56b-7d8d9658ef0d",
   "metadata": {},
   "outputs": [
    {
     "data": {
      "text/plain": [
       "array([[0., 0., 0., 0., 0., 0., 0., 0., 0.],\n",
       "       [0., 0., 0., 0., 0., 0., 0., 0., 0.],\n",
       "       [0., 0., 0., 0., 0., 0., 0., 0., 0.],\n",
       "       [0., 0., 0., 0., 0., 0., 0., 0., 0.],\n",
       "       [0., 0., 0., 0., 0., 0., 0., 0., 0.],\n",
       "       [0., 0., 0., 0., 0., 0., 0., 0., 0.],\n",
       "       [0., 0., 0., 0., 0., 0., 0., 0., 0.],\n",
       "       [0., 0., 0., 0., 0., 0., 0., 0., 0.],\n",
       "       [0., 0., 0., 0., 0., 0., 0., 0., 0.]])"
      ]
     },
     "execution_count": 2,
     "metadata": {},
     "output_type": "execute_result"
    }
   ],
   "source": [
    "board = np.zeros((9,9))\n",
    "board"
   ]
  },
  {
   "cell_type": "code",
   "execution_count": 6,
   "id": "c59ca089-360d-42ae-889c-44e1a7aebafe",
   "metadata": {},
   "outputs": [
    {
     "data": {
      "text/plain": [
       "0.0"
      ]
     },
     "execution_count": 6,
     "metadata": {},
     "output_type": "execute_result"
    }
   ],
   "source": [
    "indices = [(i, j) for i in range(9) for j in range(9)]\n",
    "board[indices[0]]"
   ]
  },
  {
   "cell_type": "code",
   "execution_count": 21,
   "id": "539a95cb-f26b-4e14-87ab-1d2950d797ea",
   "metadata": {},
   "outputs": [],
   "source": [
    "def get_indices(N: int)-> list:\n",
    "    return [(i, j) for i in range(N) for j in range(N)]"
   ]
  },
  {
   "cell_type": "code",
   "execution_count": 4,
   "id": "64598d06-5034-4d82-aef4-50dbafddae7f",
   "metadata": {},
   "outputs": [
    {
     "data": {
      "text/plain": [
       "1"
      ]
     },
     "execution_count": 4,
     "metadata": {},
     "output_type": "execute_result"
    }
   ],
   "source": [
    "'5...8..49...5...3..673....115..........2.8..........187....415..3...2...49..5...3'"
   ]
  },
  {
   "cell_type": "code",
   "execution_count": 13,
   "id": "6b67d6c9-2582-4e49-b706-94ea25ec0f15",
   "metadata": {},
   "outputs": [
    {
     "data": {
      "text/plain": [
       "8"
      ]
     },
     "execution_count": 13,
     "metadata": {},
     "output_type": "execute_result"
    }
   ],
   "source": [
    "8%9"
   ]
  },
  {
   "cell_type": "code",
   "execution_count": 35,
   "id": "8e3bdde9-a974-43af-b9a5-aabc0451a364",
   "metadata": {},
   "outputs": [],
   "source": [
    "def load_board(initial: str, N: int = 9)-> np.array:\n",
    "    board = np.zeros((9,9), dtype=int)\n",
    "    j= 0\n",
    "    for k, char in enumerate(initial):\n",
    "        if char == '.':\n",
    "            pass\n",
    "        else:\n",
    "            i = k // N\n",
    "            j = k % N\n",
    "            board[i, j] = int(char)\n",
    "    return board"
   ]
  },
  {
   "cell_type": "code",
   "execution_count": 82,
   "id": "62028d0d-ef18-443e-b350-a0c6fe24ab8e",
   "metadata": {},
   "outputs": [
    {
     "data": {
      "text/plain": [
       "array([[5, 0, 0, 0, 8, 0, 0, 4, 9],\n",
       "       [0, 0, 0, 5, 0, 0, 0, 3, 0],\n",
       "       [0, 6, 7, 3, 0, 0, 0, 0, 1],\n",
       "       [1, 5, 0, 0, 0, 0, 0, 0, 0],\n",
       "       [0, 0, 0, 2, 0, 8, 0, 0, 0],\n",
       "       [0, 0, 0, 0, 0, 0, 0, 1, 8],\n",
       "       [7, 0, 0, 0, 0, 4, 1, 5, 0],\n",
       "       [0, 3, 0, 0, 0, 2, 0, 0, 0],\n",
       "       [4, 9, 0, 0, 5, 0, 0, 0, 3]])"
      ]
     },
     "execution_count": 82,
     "metadata": {},
     "output_type": "execute_result"
    }
   ],
   "source": [
    "load_board('5...8..49...5...3..673....115..........2.8..........187....415..3...2...49..5...3')"
   ]
  },
  {
   "cell_type": "code",
   "execution_count": 99,
   "id": "beedfafd-d456-4455-bc3b-c7652a388132",
   "metadata": {},
   "outputs": [],
   "source": [
    "board = load_board('5...8..49...5...3..673....115..........2.8..........187....415..3...2...49..5...3')"
   ]
  },
  {
   "cell_type": "code",
   "execution_count": 7,
   "id": "9e72f0bb-9c3f-4c98-870c-bc1e29c4e6f2",
   "metadata": {
    "tags": []
   },
   "outputs": [],
   "source": [
    "def fill(board: np.array, index: tuple)-> np.array:\n",
    "    print(index)\n",
    "    return board"
   ]
  },
  {
   "cell_type": "code",
   "execution_count": 8,
   "id": "9269fc10-7caf-4fce-88d4-757aec02bc38",
   "metadata": {
    "collapsed": true,
    "jupyter": {
     "outputs_hidden": true
    },
    "tags": []
   },
   "outputs": [
    {
     "name": "stdout",
     "output_type": "stream",
     "text": [
      "(0, 0)\n",
      "(0, 1)\n",
      "(0, 2)\n",
      "(0, 3)\n",
      "(0, 4)\n",
      "(0, 5)\n",
      "(0, 6)\n",
      "(0, 7)\n",
      "(0, 8)\n",
      "(1, 0)\n",
      "(1, 1)\n",
      "(1, 2)\n",
      "(1, 3)\n",
      "(1, 4)\n",
      "(1, 5)\n",
      "(1, 6)\n",
      "(1, 7)\n",
      "(1, 8)\n",
      "(2, 0)\n",
      "(2, 1)\n",
      "(2, 2)\n",
      "(2, 3)\n",
      "(2, 4)\n",
      "(2, 5)\n",
      "(2, 6)\n",
      "(2, 7)\n",
      "(2, 8)\n",
      "(3, 0)\n",
      "(3, 1)\n",
      "(3, 2)\n",
      "(3, 3)\n",
      "(3, 4)\n",
      "(3, 5)\n",
      "(3, 6)\n",
      "(3, 7)\n",
      "(3, 8)\n",
      "(4, 0)\n",
      "(4, 1)\n",
      "(4, 2)\n",
      "(4, 3)\n",
      "(4, 4)\n",
      "(4, 5)\n",
      "(4, 6)\n",
      "(4, 7)\n",
      "(4, 8)\n",
      "(5, 0)\n",
      "(5, 1)\n",
      "(5, 2)\n",
      "(5, 3)\n",
      "(5, 4)\n",
      "(5, 5)\n",
      "(5, 6)\n",
      "(5, 7)\n",
      "(5, 8)\n",
      "(6, 0)\n",
      "(6, 1)\n",
      "(6, 2)\n",
      "(6, 3)\n",
      "(6, 4)\n",
      "(6, 5)\n",
      "(6, 6)\n",
      "(6, 7)\n",
      "(6, 8)\n",
      "(7, 0)\n",
      "(7, 1)\n",
      "(7, 2)\n",
      "(7, 3)\n",
      "(7, 4)\n",
      "(7, 5)\n",
      "(7, 6)\n",
      "(7, 7)\n",
      "(7, 8)\n",
      "(8, 0)\n",
      "(8, 1)\n",
      "(8, 2)\n",
      "(8, 3)\n",
      "(8, 4)\n",
      "(8, 5)\n",
      "(8, 6)\n",
      "(8, 7)\n",
      "(8, 8)\n"
     ]
    }
   ],
   "source": [
    "for index in indices:\n",
    "    if board[index] == 0:\n",
    "        board = fill(board, index)\n",
    "    else:\n",
    "        pass"
   ]
  },
  {
   "cell_type": "code",
   "execution_count": 49,
   "id": "de90d4f2-370d-4124-8d8f-9b4f6abfea82",
   "metadata": {},
   "outputs": [],
   "source": [
    "def get_cell(index: tuple, N: int = 9):\n",
    "    cell_size = int(np.sqrt(N))\n",
    "    return (index[0] // cell_size, index[1] // cell_size)\n",
    "\n",
    "def get_affected_indices(index: tuple, N: int = 9)-> list:\n",
    "    '''affected positions according to sudoku rules'''\n",
    "    rows = {(index[0], j) for j in range(N)}\n",
    "    cols = {(j, index[1]) for j in range(N)}\n",
    "    cell = {\n",
    "        (i, j)  for i in range(N) for j in range(N)\\\n",
    "        if get_cell(index, N) == get_cell((i, j), N)\n",
    "    }\n",
    "    return list(\n",
    "        rows.union(cols).union(cell)\n",
    "    )\n",
    "    \n",
    "def get_occupied_vals(index: tuple, board: np.array, N: int = 9)-> list:\n",
    "    '''what are the used values according to sudoku rules'''\n",
    "    values = {board[tup] for tup in get_affected_indices(index, N)}\n",
    "    return [x for x in values if x != 0]\n",
    "\n",
    "def get_candidates(board: np.array, N: int = 9)-> dict:\n",
    "    '''board element at index is empty (0)'''\n",
    "    indices = get_indices(N)\n",
    "    candidates = {}\n",
    "    for index in indices:\n",
    "        if board[index] == 0:\n",
    "            candidates[index] = [\n",
    "                x for x in range(1, 10) if x not in get_occupied_vals(index, board)\n",
    "            ]\n",
    "    return candidates"
   ]
  },
  {
   "cell_type": "code",
   "execution_count": 22,
   "id": "e34b9651-b4f2-4fba-9331-2178fb3aa8ec",
   "metadata": {},
   "outputs": [
    {
     "data": {
      "text/plain": [
       "3"
      ]
     },
     "execution_count": 22,
     "metadata": {},
     "output_type": "execute_result"
    }
   ],
   "source": [
    "int(np.sqrt(9))"
   ]
  },
  {
   "cell_type": "code",
   "execution_count": 28,
   "id": "6eeb107b-a4f5-4ec3-93be-a995ad1629fb",
   "metadata": {},
   "outputs": [
    {
     "data": {
      "text/plain": [
       "{0.0, 1.0, 3.0, 5.0}"
      ]
     },
     "execution_count": 28,
     "metadata": {},
     "output_type": "execute_result"
    }
   ],
   "source": [
    "{\n",
    "    board[i, j]  for i in range(N) for j in range(N)\\\n",
    "    if get_cell(index, N) == get_cell((i, j), N)\n",
    "}"
   ]
  },
  {
   "cell_type": "code",
   "execution_count": 29,
   "id": "0f710640-b955-474d-b006-91276f29c38a",
   "metadata": {},
   "outputs": [
    {
     "data": {
      "text/plain": [
       "(8, 8)"
      ]
     },
     "execution_count": 29,
     "metadata": {},
     "output_type": "execute_result"
    }
   ],
   "source": [
    "index"
   ]
  },
  {
   "cell_type": "code",
   "execution_count": 89,
   "id": "e59e8423-8ae4-4f2d-8c5f-3c892e4a4033",
   "metadata": {},
   "outputs": [
    {
     "data": {
      "text/plain": [
       "array([[5, 0, 0, 0, 8, 0, 0, 4, 9],\n",
       "       [0, 0, 0, 5, 0, 0, 0, 3, 0],\n",
       "       [0, 6, 7, 3, 0, 0, 0, 0, 1],\n",
       "       [1, 5, 0, 0, 0, 0, 0, 0, 0],\n",
       "       [0, 0, 0, 2, 0, 8, 0, 0, 0],\n",
       "       [0, 0, 0, 0, 0, 0, 0, 1, 8],\n",
       "       [7, 0, 0, 0, 0, 4, 1, 5, 0],\n",
       "       [0, 3, 0, 0, 0, 2, 0, 0, 0],\n",
       "       [4, 9, 0, 0, 5, 0, 0, 0, 3]])"
      ]
     },
     "execution_count": 89,
     "metadata": {},
     "output_type": "execute_result"
    }
   ],
   "source": [
    "board"
   ]
  },
  {
   "cell_type": "code",
   "execution_count": 50,
   "id": "1aa254d6-e8e4-47e0-b3d4-f2eca4e8c267",
   "metadata": {},
   "outputs": [
    {
     "data": {
      "text/plain": [
       "[1, 3, 4, 5, 8, 9]"
      ]
     },
     "execution_count": 50,
     "metadata": {},
     "output_type": "execute_result"
    }
   ],
   "source": [
    "get_occupied_vals(index, board)"
   ]
  },
  {
   "cell_type": "code",
   "execution_count": 90,
   "id": "368511f9-a852-4427-92b2-efbf6f6df371",
   "metadata": {},
   "outputs": [
    {
     "data": {
      "text/plain": [
       "{(0, 1): [1, 2],\n",
       " (0, 2): [1, 2, 3],\n",
       " (0, 3): [1, 6, 7],\n",
       " (0, 5): [1, 6, 7],\n",
       " (0, 6): [2, 6, 7],\n",
       " (1, 0): [2, 8, 9],\n",
       " (1, 1): [1, 2, 4, 8],\n",
       " (1, 2): [1, 2, 4, 8, 9],\n",
       " (1, 4): [1, 2, 4, 6, 7, 9],\n",
       " (1, 5): [1, 6, 7, 9],\n",
       " (1, 6): [2, 6, 7, 8],\n",
       " (1, 8): [2, 6, 7],\n",
       " (2, 0): [2, 8, 9],\n",
       " (2, 4): [2, 4, 9],\n",
       " (2, 5): [9],\n",
       " (2, 6): [2, 5, 8],\n",
       " (2, 7): [2, 8],\n",
       " (3, 2): [2, 3, 4, 6, 8, 9],\n",
       " (3, 3): [4, 6, 7, 9],\n",
       " (3, 4): [3, 4, 6, 7, 9],\n",
       " (3, 5): [3, 6, 7, 9],\n",
       " (3, 6): [2, 3, 4, 6, 7, 9],\n",
       " (3, 7): [2, 6, 7, 9],\n",
       " (3, 8): [2, 4, 6, 7],\n",
       " (4, 0): [3, 6, 9],\n",
       " (4, 1): [4, 7],\n",
       " (4, 2): [3, 4, 6, 9],\n",
       " (4, 4): [1, 3, 4, 6, 7, 9],\n",
       " (4, 6): [3, 4, 5, 6, 7, 9],\n",
       " (4, 7): [6, 7, 9],\n",
       " (4, 8): [4, 5, 6, 7],\n",
       " (5, 0): [2, 3, 6, 9],\n",
       " (5, 1): [2, 4, 7],\n",
       " (5, 2): [2, 3, 4, 6, 9],\n",
       " (5, 3): [4, 6, 7, 9],\n",
       " (5, 4): [3, 4, 6, 7, 9],\n",
       " (5, 5): [3, 5, 6, 7, 9],\n",
       " (5, 6): [2, 3, 4, 5, 6, 7, 9],\n",
       " (6, 1): [2, 8],\n",
       " (6, 2): [2, 6, 8],\n",
       " (6, 3): [6, 8, 9],\n",
       " (6, 4): [3, 6, 9],\n",
       " (6, 8): [2, 6],\n",
       " (7, 0): [6, 8],\n",
       " (7, 2): [1, 5, 6, 8],\n",
       " (7, 3): [1, 6, 7, 8, 9],\n",
       " (7, 4): [1, 6, 7, 9],\n",
       " (7, 6): [4, 6, 7, 8, 9],\n",
       " (7, 7): [6, 7, 8, 9],\n",
       " (7, 8): [4, 6, 7],\n",
       " (8, 2): [1, 2, 6, 8],\n",
       " (8, 3): [1, 6, 7, 8],\n",
       " (8, 5): [1, 6, 7],\n",
       " (8, 6): [2, 6, 7, 8],\n",
       " (8, 7): [2, 6, 7, 8]}"
      ]
     },
     "execution_count": 90,
     "metadata": {},
     "output_type": "execute_result"
    }
   ],
   "source": [
    "get_candidates(board)"
   ]
  },
  {
   "cell_type": "code",
   "execution_count": 100,
   "id": "3c5c4999-d438-40ae-ac20-68c86e3381b8",
   "metadata": {},
   "outputs": [],
   "source": [
    "candidates = get_candidates(board)"
   ]
  },
  {
   "cell_type": "code",
   "execution_count": 52,
   "id": "a1c04a8d-e6df-4e78-b9d1-6645db6039c9",
   "metadata": {},
   "outputs": [
    {
     "data": {
      "text/plain": [
       "9"
      ]
     },
     "execution_count": 52,
     "metadata": {},
     "output_type": "execute_result"
    }
   ],
   "source": [
    "board.shape[0]"
   ]
  },
  {
   "cell_type": "code",
   "execution_count": 107,
   "id": "9ef180fa-3f2b-48ff-bafd-3d3bdaa99759",
   "metadata": {},
   "outputs": [],
   "source": [
    "def update_value(index: tuple, board: np.array, candidates: dict)-> np.array:\n",
    "    '''\n",
    "    for an index with a valid answer, fill the answer value and update\n",
    "    relevant candidates\n",
    "    '''\n",
    "    fill = candidates[index][0] # THE valid answer\n",
    "    board[index] = fill\n",
    "    indices_to_check = get_affected_indices(index, board.shape[0])\n",
    "    for tup in indices_to_check:\n",
    "        if tup in candidates and fill in candidates[tup]:\n",
    "            candidates[tup].remove(fill)\n",
    "    return board, candidates"
   ]
  },
  {
   "cell_type": "code",
   "execution_count": 92,
   "id": "83d1e62b-e10b-48cb-8ffb-75aebe8d1a34",
   "metadata": {},
   "outputs": [
    {
     "data": {
      "text/plain": [
       "array([[5, 0, 0, 0, 8, 0, 0, 4, 9],\n",
       "       [0, 0, 0, 5, 0, 0, 0, 3, 0],\n",
       "       [0, 6, 7, 3, 0, 0, 0, 0, 1],\n",
       "       [1, 5, 0, 0, 0, 0, 0, 0, 0],\n",
       "       [0, 0, 0, 2, 0, 8, 0, 0, 0],\n",
       "       [0, 0, 0, 0, 0, 0, 0, 1, 8],\n",
       "       [7, 0, 0, 0, 0, 4, 1, 5, 0],\n",
       "       [0, 3, 0, 0, 0, 2, 0, 0, 0],\n",
       "       [4, 9, 0, 0, 5, 0, 0, 0, 3]])"
      ]
     },
     "execution_count": 92,
     "metadata": {},
     "output_type": "execute_result"
    }
   ],
   "source": [
    "board"
   ]
  },
  {
   "cell_type": "code",
   "execution_count": 103,
   "id": "379d9edd-3cf4-4a55-85a2-0e051fbe73db",
   "metadata": {
    "tags": []
   },
   "outputs": [],
   "source": [
    "board, candidates = update_value((2, 5), board, candidates)"
   ]
  },
  {
   "cell_type": "code",
   "execution_count": 104,
   "id": "9ad5c0cd-69c3-4d33-990c-f155abfc5853",
   "metadata": {},
   "outputs": [
    {
     "data": {
      "text/plain": [
       "(0, [1, 6, 7])"
      ]
     },
     "execution_count": 104,
     "metadata": {},
     "output_type": "execute_result"
    }
   ],
   "source": [
    "board[1,5], candidates[1,5]"
   ]
  },
  {
   "cell_type": "code",
   "execution_count": 105,
   "id": "adb478e0-c6e9-4a1b-a6e8-d25bb16ff30c",
   "metadata": {},
   "outputs": [
    {
     "name": "stdout",
     "output_type": "stream",
     "text": [
      "(2, 4) [2, 4] 0\n",
      "(2, 7) [2, 8] 0\n",
      "(1, 5) [1, 6, 7] 0\n",
      "(0, 5) [1, 6, 7] 0\n",
      "(2, 5) [] 9\n",
      "(3, 5) [3, 6, 7] 0\n",
      "(5, 5) [3, 5, 6, 7] 0\n",
      "(0, 3) [1, 6, 7] 0\n",
      "(2, 0) [2, 8] 0\n",
      "(1, 4) [1, 2, 4, 6, 7] 0\n",
      "(2, 6) [2, 5, 8] 0\n",
      "(8, 5) [1, 6, 7] 0\n"
     ]
    }
   ],
   "source": [
    "indices_to_check = get_affected_indices((2, 5), board.shape[0])\n",
    "for tup in indices_to_check:\n",
    "    if tup in candidates:\n",
    "        print(tup, candidates[tup], board[tup])"
   ]
  },
  {
   "cell_type": "code",
   "execution_count": 106,
   "id": "1b48e033-7084-480a-9f5d-ee9f1318867e",
   "metadata": {},
   "outputs": [
    {
     "data": {
      "text/plain": [
       "{(0, 1): [1, 2],\n",
       " (0, 2): [1, 2, 3],\n",
       " (0, 3): [1, 6, 7],\n",
       " (0, 5): [1, 6, 7],\n",
       " (0, 6): [2, 6, 7],\n",
       " (1, 0): [2, 8, 9],\n",
       " (1, 1): [1, 2, 4, 8],\n",
       " (1, 2): [1, 2, 4, 8, 9],\n",
       " (1, 4): [1, 2, 4, 6, 7],\n",
       " (1, 5): [1, 6, 7],\n",
       " (1, 6): [2, 6, 7, 8],\n",
       " (1, 8): [2, 6, 7],\n",
       " (2, 0): [2, 8],\n",
       " (2, 4): [2, 4],\n",
       " (2, 5): [],\n",
       " (2, 6): [2, 5, 8],\n",
       " (2, 7): [2, 8],\n",
       " (3, 2): [2, 3, 4, 6, 8, 9],\n",
       " (3, 3): [4, 6, 7, 9],\n",
       " (3, 4): [3, 4, 6, 7, 9],\n",
       " (3, 5): [3, 6, 7],\n",
       " (3, 6): [2, 3, 4, 6, 7, 9],\n",
       " (3, 7): [2, 6, 7, 9],\n",
       " (3, 8): [2, 4, 6, 7],\n",
       " (4, 0): [3, 6, 9],\n",
       " (4, 1): [4, 7],\n",
       " (4, 2): [3, 4, 6, 9],\n",
       " (4, 4): [1, 3, 4, 6, 7, 9],\n",
       " (4, 6): [3, 4, 5, 6, 7, 9],\n",
       " (4, 7): [6, 7, 9],\n",
       " (4, 8): [4, 5, 6, 7],\n",
       " (5, 0): [2, 3, 6, 9],\n",
       " (5, 1): [2, 4, 7],\n",
       " (5, 2): [2, 3, 4, 6, 9],\n",
       " (5, 3): [4, 6, 7, 9],\n",
       " (5, 4): [3, 4, 6, 7, 9],\n",
       " (5, 5): [3, 5, 6, 7],\n",
       " (5, 6): [2, 3, 4, 5, 6, 7, 9],\n",
       " (6, 1): [2, 8],\n",
       " (6, 2): [2, 6, 8],\n",
       " (6, 3): [6, 8, 9],\n",
       " (6, 4): [3, 6, 9],\n",
       " (6, 8): [2, 6],\n",
       " (7, 0): [6, 8],\n",
       " (7, 2): [1, 5, 6, 8],\n",
       " (7, 3): [1, 6, 7, 8, 9],\n",
       " (7, 4): [1, 6, 7, 9],\n",
       " (7, 6): [4, 6, 7, 8, 9],\n",
       " (7, 7): [6, 7, 8, 9],\n",
       " (7, 8): [4, 6, 7],\n",
       " (8, 2): [1, 2, 6, 8],\n",
       " (8, 3): [1, 6, 7, 8],\n",
       " (8, 5): [1, 6, 7],\n",
       " (8, 6): [2, 6, 7, 8],\n",
       " (8, 7): [2, 6, 7, 8]}"
      ]
     },
     "execution_count": 106,
     "metadata": {},
     "output_type": "execute_result"
    }
   ],
   "source": [
    "candidates"
   ]
  },
  {
   "cell_type": "code",
   "execution_count": null,
   "id": "2fe5e7c8-6334-457f-9907-9a7f34b93217",
   "metadata": {},
   "outputs": [],
   "source": []
  }
 ],
 "metadata": {
  "kernelspec": {
   "display_name": "Python 3 (ipykernel)",
   "language": "python",
   "name": "python3"
  },
  "language_info": {
   "codemirror_mode": {
    "name": "ipython",
    "version": 3
   },
   "file_extension": ".py",
   "mimetype": "text/x-python",
   "name": "python",
   "nbconvert_exporter": "python",
   "pygments_lexer": "ipython3",
   "version": "3.9.1"
  }
 },
 "nbformat": 4,
 "nbformat_minor": 5
}
